{
 "cells": [
  {
   "cell_type": "markdown",
   "metadata": {},
   "source": [
    "# MIDTERM _ ID:"
   ]
  },
  {
   "cell_type": "code",
   "execution_count": 129,
   "metadata": {},
   "outputs": [],
   "source": [
    "# Выгрузить данные по скрипту из csv файла.  \n",
    "\n",
    "# Построить три графика по данным. \n",
    "\n",
    "# Сделать сравнительный анализ между своим и имеющимися данными (в виде графика). Например, у вас есть\n",
    "# данные по скачиваю приложений и здесь данные по устройствам, постройте между ними зависимость.  \n",
    "\n",
    "# Возьмите массив из 8 элементов и сделайте следующие операции: \n",
    "\n",
    "# - заполнить рандомномно; \n",
    "\n",
    "# - поменять 4 и 7 элемент местами; \n",
    "\n",
    "# - удалить 2 элемент;  \n",
    "\n",
    "# - записать новое число в 1 элемент;  \n",
    "\n",
    "# - сортировать по возрастанию;  "
   ]
  },
  {
   "cell_type": "code",
   "execution_count": 130,
   "metadata": {},
   "outputs": [],
   "source": [
    "import pandas as pd\n",
    "import numpy as np\n",
    "import re\n",
    "import datetime\n",
    "import os\n",
    "%matplotlib inline\n",
    "import matplotlib\n",
    "\n",
    "# Visualisation tools\n",
    "from matplotlib import pyplot as plt\n",
    "import seaborn as sns"
   ]
  },
  {
   "cell_type": "code",
   "execution_count": 131,
   "metadata": {},
   "outputs": [
    {
     "data": {
      "text/html": [
       "<div>\n",
       "<style scoped>\n",
       "    .dataframe tbody tr th:only-of-type {\n",
       "        vertical-align: middle;\n",
       "    }\n",
       "\n",
       "    .dataframe tbody tr th {\n",
       "        vertical-align: top;\n",
       "    }\n",
       "\n",
       "    .dataframe thead th {\n",
       "        text-align: right;\n",
       "    }\n",
       "</style>\n",
       "<table border=\"1\" class=\"dataframe\">\n",
       "  <thead>\n",
       "    <tr style=\"text-align: right;\">\n",
       "      <th></th>\n",
       "      <th>year</th>\n",
       "      <th>state</th>\n",
       "      <th>state_po</th>\n",
       "      <th>state_fips</th>\n",
       "      <th>state_cen</th>\n",
       "      <th>state_ic</th>\n",
       "      <th>office</th>\n",
       "      <th>district</th>\n",
       "      <th>stage</th>\n",
       "      <th>runoff</th>\n",
       "      <th>special</th>\n",
       "      <th>candidate</th>\n",
       "      <th>party</th>\n",
       "      <th>writein</th>\n",
       "      <th>mode</th>\n",
       "      <th>candidatevotes</th>\n",
       "      <th>totalvotes</th>\n",
       "      <th>unofficial</th>\n",
       "      <th>version</th>\n",
       "    </tr>\n",
       "  </thead>\n",
       "  <tbody>\n",
       "    <tr>\n",
       "      <th>0</th>\n",
       "      <td>1976</td>\n",
       "      <td>Alabama</td>\n",
       "      <td>AL</td>\n",
       "      <td>1</td>\n",
       "      <td>63</td>\n",
       "      <td>41</td>\n",
       "      <td>US House</td>\n",
       "      <td>1</td>\n",
       "      <td>gen</td>\n",
       "      <td>False</td>\n",
       "      <td>False</td>\n",
       "      <td>Bill Davenport</td>\n",
       "      <td>democrat</td>\n",
       "      <td>False</td>\n",
       "      <td>total</td>\n",
       "      <td>58906</td>\n",
       "      <td>157170</td>\n",
       "      <td>False</td>\n",
       "      <td>20200424</td>\n",
       "    </tr>\n",
       "    <tr>\n",
       "      <th>1</th>\n",
       "      <td>1976</td>\n",
       "      <td>Alabama</td>\n",
       "      <td>AL</td>\n",
       "      <td>1</td>\n",
       "      <td>63</td>\n",
       "      <td>41</td>\n",
       "      <td>US House</td>\n",
       "      <td>1</td>\n",
       "      <td>gen</td>\n",
       "      <td>False</td>\n",
       "      <td>False</td>\n",
       "      <td>Jack Edwards</td>\n",
       "      <td>republican</td>\n",
       "      <td>False</td>\n",
       "      <td>total</td>\n",
       "      <td>98257</td>\n",
       "      <td>157170</td>\n",
       "      <td>False</td>\n",
       "      <td>20200424</td>\n",
       "    </tr>\n",
       "    <tr>\n",
       "      <th>2</th>\n",
       "      <td>1976</td>\n",
       "      <td>Alabama</td>\n",
       "      <td>AL</td>\n",
       "      <td>1</td>\n",
       "      <td>63</td>\n",
       "      <td>41</td>\n",
       "      <td>US House</td>\n",
       "      <td>1</td>\n",
       "      <td>gen</td>\n",
       "      <td>False</td>\n",
       "      <td>False</td>\n",
       "      <td>NaN</td>\n",
       "      <td>NaN</td>\n",
       "      <td>True</td>\n",
       "      <td>total</td>\n",
       "      <td>7</td>\n",
       "      <td>157170</td>\n",
       "      <td>False</td>\n",
       "      <td>20200424</td>\n",
       "    </tr>\n",
       "    <tr>\n",
       "      <th>3</th>\n",
       "      <td>1976</td>\n",
       "      <td>Alabama</td>\n",
       "      <td>AL</td>\n",
       "      <td>1</td>\n",
       "      <td>63</td>\n",
       "      <td>41</td>\n",
       "      <td>US House</td>\n",
       "      <td>2</td>\n",
       "      <td>gen</td>\n",
       "      <td>False</td>\n",
       "      <td>False</td>\n",
       "      <td>J. Carole Keahey</td>\n",
       "      <td>democrat</td>\n",
       "      <td>False</td>\n",
       "      <td>total</td>\n",
       "      <td>66288</td>\n",
       "      <td>156362</td>\n",
       "      <td>False</td>\n",
       "      <td>20200424</td>\n",
       "    </tr>\n",
       "    <tr>\n",
       "      <th>4</th>\n",
       "      <td>1976</td>\n",
       "      <td>Alabama</td>\n",
       "      <td>AL</td>\n",
       "      <td>1</td>\n",
       "      <td>63</td>\n",
       "      <td>41</td>\n",
       "      <td>US House</td>\n",
       "      <td>2</td>\n",
       "      <td>gen</td>\n",
       "      <td>False</td>\n",
       "      <td>False</td>\n",
       "      <td>NaN</td>\n",
       "      <td>NaN</td>\n",
       "      <td>True</td>\n",
       "      <td>total</td>\n",
       "      <td>5</td>\n",
       "      <td>156362</td>\n",
       "      <td>False</td>\n",
       "      <td>20200424</td>\n",
       "    </tr>\n",
       "    <tr>\n",
       "      <th>...</th>\n",
       "      <td>...</td>\n",
       "      <td>...</td>\n",
       "      <td>...</td>\n",
       "      <td>...</td>\n",
       "      <td>...</td>\n",
       "      <td>...</td>\n",
       "      <td>...</td>\n",
       "      <td>...</td>\n",
       "      <td>...</td>\n",
       "      <td>...</td>\n",
       "      <td>...</td>\n",
       "      <td>...</td>\n",
       "      <td>...</td>\n",
       "      <td>...</td>\n",
       "      <td>...</td>\n",
       "      <td>...</td>\n",
       "      <td>...</td>\n",
       "      <td>...</td>\n",
       "      <td>...</td>\n",
       "    </tr>\n",
       "    <tr>\n",
       "      <th>29631</th>\n",
       "      <td>2018</td>\n",
       "      <td>Maryland</td>\n",
       "      <td>MD</td>\n",
       "      <td>24</td>\n",
       "      <td>52</td>\n",
       "      <td>52</td>\n",
       "      <td>US House</td>\n",
       "      <td>7</td>\n",
       "      <td>gen</td>\n",
       "      <td>NaN</td>\n",
       "      <td>False</td>\n",
       "      <td>NaN</td>\n",
       "      <td>NaN</td>\n",
       "      <td>True</td>\n",
       "      <td>total</td>\n",
       "      <td>272</td>\n",
       "      <td>264710</td>\n",
       "      <td>False</td>\n",
       "      <td>20200424</td>\n",
       "    </tr>\n",
       "    <tr>\n",
       "      <th>29632</th>\n",
       "      <td>2018</td>\n",
       "      <td>Maryland</td>\n",
       "      <td>MD</td>\n",
       "      <td>24</td>\n",
       "      <td>52</td>\n",
       "      <td>52</td>\n",
       "      <td>US House</td>\n",
       "      <td>8</td>\n",
       "      <td>gen</td>\n",
       "      <td>NaN</td>\n",
       "      <td>False</td>\n",
       "      <td>Jamie Raskin</td>\n",
       "      <td>democrat</td>\n",
       "      <td>False</td>\n",
       "      <td>total</td>\n",
       "      <td>217679</td>\n",
       "      <td>319330</td>\n",
       "      <td>False</td>\n",
       "      <td>20200424</td>\n",
       "    </tr>\n",
       "    <tr>\n",
       "      <th>29633</th>\n",
       "      <td>2018</td>\n",
       "      <td>Maryland</td>\n",
       "      <td>MD</td>\n",
       "      <td>24</td>\n",
       "      <td>52</td>\n",
       "      <td>52</td>\n",
       "      <td>US House</td>\n",
       "      <td>8</td>\n",
       "      <td>gen</td>\n",
       "      <td>NaN</td>\n",
       "      <td>False</td>\n",
       "      <td>Jasen Wunder</td>\n",
       "      <td>libertarian</td>\n",
       "      <td>False</td>\n",
       "      <td>total</td>\n",
       "      <td>4853</td>\n",
       "      <td>319330</td>\n",
       "      <td>False</td>\n",
       "      <td>20200424</td>\n",
       "    </tr>\n",
       "    <tr>\n",
       "      <th>29634</th>\n",
       "      <td>2018</td>\n",
       "      <td>Maryland</td>\n",
       "      <td>MD</td>\n",
       "      <td>24</td>\n",
       "      <td>52</td>\n",
       "      <td>52</td>\n",
       "      <td>US House</td>\n",
       "      <td>8</td>\n",
       "      <td>gen</td>\n",
       "      <td>NaN</td>\n",
       "      <td>False</td>\n",
       "      <td>John Walsh</td>\n",
       "      <td>republican</td>\n",
       "      <td>False</td>\n",
       "      <td>total</td>\n",
       "      <td>96525</td>\n",
       "      <td>319330</td>\n",
       "      <td>False</td>\n",
       "      <td>20200424</td>\n",
       "    </tr>\n",
       "    <tr>\n",
       "      <th>29635</th>\n",
       "      <td>2018</td>\n",
       "      <td>Maryland</td>\n",
       "      <td>MD</td>\n",
       "      <td>24</td>\n",
       "      <td>52</td>\n",
       "      <td>52</td>\n",
       "      <td>US House</td>\n",
       "      <td>8</td>\n",
       "      <td>gen</td>\n",
       "      <td>NaN</td>\n",
       "      <td>False</td>\n",
       "      <td>NaN</td>\n",
       "      <td>NaN</td>\n",
       "      <td>True</td>\n",
       "      <td>total</td>\n",
       "      <td>273</td>\n",
       "      <td>319330</td>\n",
       "      <td>False</td>\n",
       "      <td>20200424</td>\n",
       "    </tr>\n",
       "  </tbody>\n",
       "</table>\n",
       "<p>29636 rows × 19 columns</p>\n",
       "</div>"
      ],
      "text/plain": [
       "       year     state state_po  state_fips  state_cen  state_ic    office  \\\n",
       "0      1976   Alabama       AL           1         63        41  US House   \n",
       "1      1976   Alabama       AL           1         63        41  US House   \n",
       "2      1976   Alabama       AL           1         63        41  US House   \n",
       "3      1976   Alabama       AL           1         63        41  US House   \n",
       "4      1976   Alabama       AL           1         63        41  US House   \n",
       "...     ...       ...      ...         ...        ...       ...       ...   \n",
       "29631  2018  Maryland       MD          24         52        52  US House   \n",
       "29632  2018  Maryland       MD          24         52        52  US House   \n",
       "29633  2018  Maryland       MD          24         52        52  US House   \n",
       "29634  2018  Maryland       MD          24         52        52  US House   \n",
       "29635  2018  Maryland       MD          24         52        52  US House   \n",
       "\n",
       "       district stage runoff  special         candidate        party  writein  \\\n",
       "0             1   gen  False    False    Bill Davenport     democrat    False   \n",
       "1             1   gen  False    False      Jack Edwards   republican    False   \n",
       "2             1   gen  False    False               NaN          NaN     True   \n",
       "3             2   gen  False    False  J. Carole Keahey     democrat    False   \n",
       "4             2   gen  False    False               NaN          NaN     True   \n",
       "...         ...   ...    ...      ...               ...          ...      ...   \n",
       "29631         7   gen    NaN    False               NaN          NaN     True   \n",
       "29632         8   gen    NaN    False      Jamie Raskin     democrat    False   \n",
       "29633         8   gen    NaN    False      Jasen Wunder  libertarian    False   \n",
       "29634         8   gen    NaN    False        John Walsh   republican    False   \n",
       "29635         8   gen    NaN    False               NaN          NaN     True   \n",
       "\n",
       "        mode  candidatevotes  totalvotes  unofficial   version  \n",
       "0      total           58906      157170       False  20200424  \n",
       "1      total           98257      157170       False  20200424  \n",
       "2      total               7      157170       False  20200424  \n",
       "3      total           66288      156362       False  20200424  \n",
       "4      total               5      156362       False  20200424  \n",
       "...      ...             ...         ...         ...       ...  \n",
       "29631  total             272      264710       False  20200424  \n",
       "29632  total          217679      319330       False  20200424  \n",
       "29633  total            4853      319330       False  20200424  \n",
       "29634  total           96525      319330       False  20200424  \n",
       "29635  total             273      319330       False  20200424  \n",
       "\n",
       "[29636 rows x 19 columns]"
      ]
     },
     "metadata": {},
     "output_type": "display_data"
    }
   ],
   "source": [
    "data = pd.read_csv('1976-2018-house2.csv', encoding= 'unicode_escape')\n",
    "display(data)"
   ]
  },
  {
   "cell_type": "code",
   "execution_count": 132,
   "metadata": {},
   "outputs": [],
   "source": [
    "new_data = data[['state', 'candidate', 'candidatevotes', 'year']]"
   ]
  },
  {
   "cell_type": "code",
   "execution_count": 133,
   "metadata": {},
   "outputs": [
    {
     "data": {
      "text/html": [
       "<div>\n",
       "<style scoped>\n",
       "    .dataframe tbody tr th:only-of-type {\n",
       "        vertical-align: middle;\n",
       "    }\n",
       "\n",
       "    .dataframe tbody tr th {\n",
       "        vertical-align: top;\n",
       "    }\n",
       "\n",
       "    .dataframe thead th {\n",
       "        text-align: right;\n",
       "    }\n",
       "</style>\n",
       "<table border=\"1\" class=\"dataframe\">\n",
       "  <thead>\n",
       "    <tr style=\"text-align: right;\">\n",
       "      <th></th>\n",
       "      <th>state</th>\n",
       "      <th>candidate</th>\n",
       "      <th>candidatevotes</th>\n",
       "      <th>year</th>\n",
       "    </tr>\n",
       "  </thead>\n",
       "  <tbody>\n",
       "    <tr>\n",
       "      <th>0</th>\n",
       "      <td>Alabama</td>\n",
       "      <td>Bill Davenport</td>\n",
       "      <td>58906</td>\n",
       "      <td>1976</td>\n",
       "    </tr>\n",
       "    <tr>\n",
       "      <th>1</th>\n",
       "      <td>Alabama</td>\n",
       "      <td>Jack Edwards</td>\n",
       "      <td>98257</td>\n",
       "      <td>1976</td>\n",
       "    </tr>\n",
       "    <tr>\n",
       "      <th>2</th>\n",
       "      <td>Alabama</td>\n",
       "      <td>NaN</td>\n",
       "      <td>7</td>\n",
       "      <td>1976</td>\n",
       "    </tr>\n",
       "    <tr>\n",
       "      <th>3</th>\n",
       "      <td>Alabama</td>\n",
       "      <td>J. Carole Keahey</td>\n",
       "      <td>66288</td>\n",
       "      <td>1976</td>\n",
       "    </tr>\n",
       "    <tr>\n",
       "      <th>4</th>\n",
       "      <td>Alabama</td>\n",
       "      <td>NaN</td>\n",
       "      <td>5</td>\n",
       "      <td>1976</td>\n",
       "    </tr>\n",
       "    <tr>\n",
       "      <th>...</th>\n",
       "      <td>...</td>\n",
       "      <td>...</td>\n",
       "      <td>...</td>\n",
       "      <td>...</td>\n",
       "    </tr>\n",
       "    <tr>\n",
       "      <th>29631</th>\n",
       "      <td>Maryland</td>\n",
       "      <td>NaN</td>\n",
       "      <td>272</td>\n",
       "      <td>2018</td>\n",
       "    </tr>\n",
       "    <tr>\n",
       "      <th>29632</th>\n",
       "      <td>Maryland</td>\n",
       "      <td>Jamie Raskin</td>\n",
       "      <td>217679</td>\n",
       "      <td>2018</td>\n",
       "    </tr>\n",
       "    <tr>\n",
       "      <th>29633</th>\n",
       "      <td>Maryland</td>\n",
       "      <td>Jasen Wunder</td>\n",
       "      <td>4853</td>\n",
       "      <td>2018</td>\n",
       "    </tr>\n",
       "    <tr>\n",
       "      <th>29634</th>\n",
       "      <td>Maryland</td>\n",
       "      <td>John Walsh</td>\n",
       "      <td>96525</td>\n",
       "      <td>2018</td>\n",
       "    </tr>\n",
       "    <tr>\n",
       "      <th>29635</th>\n",
       "      <td>Maryland</td>\n",
       "      <td>NaN</td>\n",
       "      <td>273</td>\n",
       "      <td>2018</td>\n",
       "    </tr>\n",
       "  </tbody>\n",
       "</table>\n",
       "<p>29636 rows × 4 columns</p>\n",
       "</div>"
      ],
      "text/plain": [
       "          state         candidate  candidatevotes  year\n",
       "0       Alabama    Bill Davenport           58906  1976\n",
       "1       Alabama      Jack Edwards           98257  1976\n",
       "2       Alabama               NaN               7  1976\n",
       "3       Alabama  J. Carole Keahey           66288  1976\n",
       "4       Alabama               NaN               5  1976\n",
       "...         ...               ...             ...   ...\n",
       "29631  Maryland               NaN             272  2018\n",
       "29632  Maryland      Jamie Raskin          217679  2018\n",
       "29633  Maryland      Jasen Wunder            4853  2018\n",
       "29634  Maryland        John Walsh           96525  2018\n",
       "29635  Maryland               NaN             273  2018\n",
       "\n",
       "[29636 rows x 4 columns]"
      ]
     },
     "execution_count": 133,
     "metadata": {},
     "output_type": "execute_result"
    }
   ],
   "source": [
    "new_data"
   ]
  },
  {
   "cell_type": "markdown",
   "metadata": {},
   "source": [
    "# making new_data to find statistics in New York"
   ]
  },
  {
   "cell_type": "code",
   "execution_count": 134,
   "metadata": {},
   "outputs": [
    {
     "data": {
      "text/html": [
       "<div>\n",
       "<style scoped>\n",
       "    .dataframe tbody tr th:only-of-type {\n",
       "        vertical-align: middle;\n",
       "    }\n",
       "\n",
       "    .dataframe tbody tr th {\n",
       "        vertical-align: top;\n",
       "    }\n",
       "\n",
       "    .dataframe thead th {\n",
       "        text-align: right;\n",
       "    }\n",
       "</style>\n",
       "<table border=\"1\" class=\"dataframe\">\n",
       "  <thead>\n",
       "    <tr style=\"text-align: right;\">\n",
       "      <th></th>\n",
       "      <th>state</th>\n",
       "      <th>candidate</th>\n",
       "      <th>candidatevotes</th>\n",
       "      <th>year</th>\n",
       "    </tr>\n",
       "  </thead>\n",
       "  <tbody>\n",
       "    <tr>\n",
       "      <th>734</th>\n",
       "      <td>New York</td>\n",
       "      <td>Otis G. Pike</td>\n",
       "      <td>5749</td>\n",
       "      <td>1976</td>\n",
       "    </tr>\n",
       "    <tr>\n",
       "      <th>735</th>\n",
       "      <td>New York</td>\n",
       "      <td>Seth C. Morgan</td>\n",
       "      <td>10269</td>\n",
       "      <td>1976</td>\n",
       "    </tr>\n",
       "    <tr>\n",
       "      <th>736</th>\n",
       "      <td>New York</td>\n",
       "      <td>Otis G. Pike</td>\n",
       "      <td>129779</td>\n",
       "      <td>1976</td>\n",
       "    </tr>\n",
       "    <tr>\n",
       "      <th>737</th>\n",
       "      <td>New York</td>\n",
       "      <td>Salvatore Nicosia</td>\n",
       "      <td>61671</td>\n",
       "      <td>1976</td>\n",
       "    </tr>\n",
       "    <tr>\n",
       "      <th>738</th>\n",
       "      <td>New York</td>\n",
       "      <td>Thomas J. Downey</td>\n",
       "      <td>90172</td>\n",
       "      <td>1976</td>\n",
       "    </tr>\n",
       "    <tr>\n",
       "      <th>...</th>\n",
       "      <td>...</td>\n",
       "      <td>...</td>\n",
       "      <td>...</td>\n",
       "      <td>...</td>\n",
       "    </tr>\n",
       "    <tr>\n",
       "      <th>29111</th>\n",
       "      <td>New York</td>\n",
       "      <td>Nathan D. McMurray</td>\n",
       "      <td>8090</td>\n",
       "      <td>2018</td>\n",
       "    </tr>\n",
       "    <tr>\n",
       "      <th>29112</th>\n",
       "      <td>New York</td>\n",
       "      <td>Chris Collins</td>\n",
       "      <td>2087</td>\n",
       "      <td>2018</td>\n",
       "    </tr>\n",
       "    <tr>\n",
       "      <th>29113</th>\n",
       "      <td>New York</td>\n",
       "      <td>Nathan D. McMurray</td>\n",
       "      <td>2802</td>\n",
       "      <td>2018</td>\n",
       "    </tr>\n",
       "    <tr>\n",
       "      <th>29114</th>\n",
       "      <td>New York</td>\n",
       "      <td>Larry Piegza</td>\n",
       "      <td>5973</td>\n",
       "      <td>2018</td>\n",
       "    </tr>\n",
       "    <tr>\n",
       "      <th>29115</th>\n",
       "      <td>New York</td>\n",
       "      <td>NaN</td>\n",
       "      <td>122</td>\n",
       "      <td>2018</td>\n",
       "    </tr>\n",
       "  </tbody>\n",
       "</table>\n",
       "<p>3605 rows × 4 columns</p>\n",
       "</div>"
      ],
      "text/plain": [
       "          state           candidate  candidatevotes  year\n",
       "734    New York        Otis G. Pike            5749  1976\n",
       "735    New York      Seth C. Morgan           10269  1976\n",
       "736    New York        Otis G. Pike          129779  1976\n",
       "737    New York   Salvatore Nicosia           61671  1976\n",
       "738    New York    Thomas J. Downey           90172  1976\n",
       "...         ...                 ...             ...   ...\n",
       "29111  New York  Nathan D. McMurray            8090  2018\n",
       "29112  New York       Chris Collins            2087  2018\n",
       "29113  New York  Nathan D. McMurray            2802  2018\n",
       "29114  New York        Larry Piegza            5973  2018\n",
       "29115  New York                 NaN             122  2018\n",
       "\n",
       "[3605 rows x 4 columns]"
      ]
     },
     "execution_count": 134,
     "metadata": {},
     "output_type": "execute_result"
    }
   ],
   "source": [
    "filter = new_data['state'].isin(['New York'])\n",
    "new_data[filter]"
   ]
  },
  {
   "cell_type": "code",
   "execution_count": 138,
   "metadata": {},
   "outputs": [
    {
     "data": {
      "text/plain": [
       "<matplotlib.axes._subplots.AxesSubplot at 0x1449cdb6940>"
      ]
     },
     "execution_count": 138,
     "metadata": {},
     "output_type": "execute_result"
    },
    {
     "data": {
      "image/png": "[encoded data removed]",
      "text/plain": [
       "<Figure size 432x288 with 1 Axes>"
      ]
     },
     "metadata": {
      "needs_background": "light"
     },
     "output_type": "display_data"
    }
   ],
   "source": [
    "by_year = new_data[[x for x in new_data.columns if 'candidatevotes' in x] + ['year']]\n",
    "by_year.groupby('year').sum().plot()"
   ]
  },
  {
   "cell_type": "code",
   "execution_count": 140,
   "metadata": {},
   "outputs": [
    {
     "data": {
      "image/png": "[encoded data removed]",
      "text/plain": [
       "<Figure size 360x360 with 6 Axes>"
      ]
     },
     "metadata": {
      "needs_background": "light"
     },
     "output_type": "display_data"
    }
   ],
   "source": [
    "sns_plot = sns.pairplot(new_data)\n"
   ]
  },
  {
   "cell_type": "code",
   "execution_count": 106,
   "metadata": {},
   "outputs": [
    {
     "data": {
      "text/html": [
       "<div>\n",
       "<style scoped>\n",
       "    .dataframe tbody tr th:only-of-type {\n",
       "        vertical-align: middle;\n",
       "    }\n",
       "\n",
       "    .dataframe tbody tr th {\n",
       "        vertical-align: top;\n",
       "    }\n",
       "\n",
       "    .dataframe thead th {\n",
       "        text-align: right;\n",
       "    }\n",
       "</style>\n",
       "<table border=\"1\" class=\"dataframe\">\n",
       "  <thead>\n",
       "    <tr style=\"text-align: right;\">\n",
       "      <th></th>\n",
       "      <th>candidate</th>\n",
       "      <th>candidatevotes</th>\n",
       "    </tr>\n",
       "  </thead>\n",
       "  <tbody>\n",
       "    <tr>\n",
       "      <th>1142</th>\n",
       "      <td>Blank Vote/Scattering</td>\n",
       "      <td>10354277</td>\n",
       "    </tr>\n",
       "    <tr>\n",
       "      <th>4004</th>\n",
       "      <td>Edward J. Markey</td>\n",
       "      <td>3257842</td>\n",
       "    </tr>\n",
       "    <tr>\n",
       "      <th>6089</th>\n",
       "      <td>James L. Oberstar</td>\n",
       "      <td>3219259</td>\n",
       "    </tr>\n",
       "    <tr>\n",
       "      <th>10506</th>\n",
       "      <td>Nancy Pelosi</td>\n",
       "      <td>2924993</td>\n",
       "    </tr>\n",
       "    <tr>\n",
       "      <th>11116</th>\n",
       "      <td>Peter A. DeFazio</td>\n",
       "      <td>2897864</td>\n",
       "    </tr>\n",
       "    <tr>\n",
       "      <th>...</th>\n",
       "      <td>...</td>\n",
       "      <td>...</td>\n",
       "    </tr>\n",
       "    <tr>\n",
       "      <th>1544</th>\n",
       "      <td>Buddy Roemer III</td>\n",
       "      <td>1</td>\n",
       "    </tr>\n",
       "    <tr>\n",
       "      <th>6906</th>\n",
       "      <td>Jimmy Hayes</td>\n",
       "      <td>1</td>\n",
       "    </tr>\n",
       "    <tr>\n",
       "      <th>11648</th>\n",
       "      <td>Richard Baker</td>\n",
       "      <td>1</td>\n",
       "    </tr>\n",
       "    <tr>\n",
       "      <th>13954</th>\n",
       "      <td>Tillie W. Fowler</td>\n",
       "      <td>1</td>\n",
       "    </tr>\n",
       "    <tr>\n",
       "      <th>15042</th>\n",
       "      <td>scattering</td>\n",
       "      <td>1</td>\n",
       "    </tr>\n",
       "  </tbody>\n",
       "</table>\n",
       "<p>15043 rows × 2 columns</p>\n",
       "</div>"
      ],
      "text/plain": [
       "                   candidate  candidatevotes\n",
       "1142   Blank Vote/Scattering        10354277\n",
       "4004        Edward J. Markey         3257842\n",
       "6089       James L. Oberstar         3219259\n",
       "10506           Nancy Pelosi         2924993\n",
       "11116       Peter A. DeFazio         2897864\n",
       "...                      ...             ...\n",
       "1544        Buddy Roemer III               1\n",
       "6906             Jimmy Hayes               1\n",
       "11648          Richard Baker               1\n",
       "13954       Tillie W. Fowler               1\n",
       "15042             scattering               1\n",
       "\n",
       "[15043 rows x 2 columns]"
      ]
     },
     "execution_count": 106,
     "metadata": {},
     "output_type": "execute_result"
    }
   ],
   "source": [
    "votes = new_data.groupby('candidate')['candidatevotes'].sum().reset_index()\n",
    "Votes_Vermont = votes.sort_values('candidatevotes',ascending=False)\n",
    "Votes_Vermont"
   ]
  },
  {
   "cell_type": "code",
   "execution_count": 107,
   "metadata": {},
   "outputs": [],
   "source": [
    "# fig, ax = plt.subplots(figsize = [16,5])\n",
    "# sns.barplot(data = Votes_Vermont,x = 'candidate',y = 'candidatevotes', ax = ax)\n",
    "# ax.set_ylabel('Count')\n",
    "# ax.set_title('Vermont votes')\n",
    "# for index,Votes_Vermont in enumerate(Votes_Vermont['candidatevotes'].astype(int)):\n",
    "#        ax.text(x=index-0.1 , y =Votes_Vermont+2 , s=f\"{Votes_Vermont}\" , fontdict=dict(fontsize=8))\n",
    "# group_by_year = new_data.loc[:, ['candidate', 'candidatevotes']].groupby('candidatevotes')\n",
    "# avgs = group_by_year.mean()\n",
    "# x = avgs.index\n",
    "# y1 = avgs.candidatevotes\n",
    "# def plot(x, y, ax, title, y_label):\n",
    "#     ax.set_title(title)\n",
    "#     ax.set_ylabel(y_label)\n",
    "#     ax.plot(x, y)\n",
    "#     ax.margins(x=0, y=0)"
   ]
  },
  {
   "cell_type": "code",
   "execution_count": 108,
   "metadata": {},
   "outputs": [],
   "source": [
    "# Plot correlation matrix for given dataset and threshold\n",
    "def plot_corr_matrix(data, threshold):\n",
    "    # Create plot\n",
    "    f = plt.figure(figsize=(12, 12))\n",
    "    plt.matshow(data.corr()[data.corr().abs() > threshold], fignum=f.number)\n",
    "    plt.xticks(range(data.shape[1]), data.columns, fontsize=12, rotation=90)\n",
    "    plt.yticks(range(data.shape[1]), data.columns, fontsize=12)\n",
    "    cb = plt.colorbar()\n",
    "    cb.ax.tick_params(labelsize=12)\n",
    "    \n",
    "    plt.show();"
   ]
  },
  {
   "cell_type": "code",
   "execution_count": 109,
   "metadata": {},
   "outputs": [
    {
     "data": {
      "image/png": "[encoded data removed]",
      "text/plain": [
       "<Figure size 864x864 with 2 Axes>"
      ]
     },
     "metadata": {
      "needs_background": "light"
     },
     "output_type": "display_data"
    }
   ],
   "source": [
    "plot_corr_matrix(data, 0)"
   ]
  },
  {
   "cell_type": "code",
   "execution_count": 111,
   "metadata": {},
   "outputs": [
    {
     "data": {
      "image/png": "[encoded data removed]",
      "text/plain": [
       "<Figure size 864x864 with 2 Axes>"
      ]
     },
     "metadata": {
      "needs_background": "light"
     },
     "output_type": "display_data"
    }
   ],
   "source": [
    "data = data[[\"year\",\"state_fips\", \"state_cen\", \"district\", \"candidatevotes\",\"totalvotes\"]]\n",
    "plot_corr_matrix(data, 0)"
   ]
  },
  {
   "cell_type": "code",
   "execution_count": 114,
   "metadata": {},
   "outputs": [],
   "source": [
    "import random\n",
    "l = [i for i in range(10)]"
   ]
  },
  {
   "cell_type": "code",
   "execution_count": 115,
   "metadata": {},
   "outputs": [
    {
     "name": "stdout",
     "output_type": "stream",
     "text": [
      "[0, 1, 2, 3, 4, 5, 6, 7, 8, 9]\n"
     ]
    }
   ],
   "source": [
    "print(l)"
   ]
  },
  {
   "cell_type": "code",
   "execution_count": 116,
   "metadata": {},
   "outputs": [
    {
     "data": {
      "text/plain": [
       "1"
      ]
     },
     "execution_count": 116,
     "metadata": {},
     "output_type": "execute_result"
    }
   ],
   "source": [
    "array.pop(1)"
   ]
  },
  {
   "cell_type": "code",
   "execution_count": 117,
   "metadata": {},
   "outputs": [],
   "source": [
    "array.insert(0, 2)"
   ]
  },
  {
   "cell_type": "code",
   "execution_count": 118,
   "metadata": {},
   "outputs": [
    {
     "data": {
      "text/plain": [
       "[2, 2, 4, 5, 6, 7, 8]"
      ]
     },
     "execution_count": 118,
     "metadata": {},
     "output_type": "execute_result"
    }
   ],
   "source": [
    "array"
   ]
  },
  {
   "cell_type": "code",
   "execution_count": 120,
   "metadata": {},
   "outputs": [],
   "source": [
    "array.sort()"
   ]
  },
  {
   "cell_type": "code",
   "execution_count": 121,
   "metadata": {},
   "outputs": [
    {
     "name": "stdout",
     "output_type": "stream",
     "text": [
      "[2, 2, 4, 5, 6, 7, 8]\n"
     ]
    }
   ],
   "source": [
    "print(array)"
   ]
  },
  {
   "cell_type": "code",
   "execution_count": 119,
   "metadata": {},
   "outputs": [
    {
     "ename": "IndexError",
     "evalue": "list index out of range",
     "output_type": "error",
     "traceback": [
      "\u001b[1;31m---------------------------------------------------------------------------\u001b[0m",
      "\u001b[1;31mIndexError\u001b[0m                                Traceback (most recent call last)",
      "\u001b[1;32m<ipython-input-119-187740ad02c6>\u001b[0m in \u001b[0;36m<module>\u001b[1;34m\u001b[0m\n\u001b[0;32m      1\u001b[0m \u001b[0mn\u001b[0m\u001b[1;33m=\u001b[0m \u001b[0marray\u001b[0m\u001b[1;33m[\u001b[0m\u001b[1;36m4\u001b[0m\u001b[1;33m]\u001b[0m\u001b[1;33m\u001b[0m\u001b[1;33m\u001b[0m\u001b[0m\n\u001b[1;32m----> 2\u001b[1;33m \u001b[0mn1\u001b[0m\u001b[1;33m=\u001b[0m \u001b[0marray\u001b[0m\u001b[1;33m[\u001b[0m\u001b[1;36m7\u001b[0m\u001b[1;33m]\u001b[0m\u001b[1;33m\u001b[0m\u001b[1;33m\u001b[0m\u001b[0m\n\u001b[0m\u001b[0;32m      3\u001b[0m \u001b[0mn\u001b[0m\u001b[1;33m,\u001b[0m \u001b[0mn1\u001b[0m \u001b[1;33m=\u001b[0m \u001b[0mn1\u001b[0m\u001b[1;33m,\u001b[0m \u001b[0mn\u001b[0m\u001b[1;33m\u001b[0m\u001b[1;33m\u001b[0m\u001b[0m\n",
      "\u001b[1;31mIndexError\u001b[0m: list index out of range"
     ]
    }
   ],
   "source": [
    "n= array[4]\n",
    "n1= array[7]\n",
    "n, n1 = n1, n\n"
   ]
  },
  {
   "cell_type": "code",
   "execution_count": null,
   "metadata": {},
   "outputs": [],
   "source": []
  },
  {
   "cell_type": "code",
   "execution_count": null,
   "metadata": {},
   "outputs": [],
   "source": []
  }
 ],
 "metadata": {
  "kernelspec": {
   "display_name": "Python 3",
   "language": "python",
   "name": "python3"
  },
  "language_info": {
   "codemirror_mode": {
    "name": "ipython",
    "version": 3
   },
   "file_extension": ".py",
   "mimetype": "text/x-python",
   "name": "python",
   "nbconvert_exporter": "python",
   "pygments_lexer": "ipython3",
   "version": "3.8.3"
  }
 },
 "nbformat": 4,
 "nbformat_minor": 4
}
